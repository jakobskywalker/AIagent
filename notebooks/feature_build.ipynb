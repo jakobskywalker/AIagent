{
 "cells": [
  {
   "cell_type": "markdown",
   "metadata": {},
   "source": [
    "# Feature Engineering für Bank-Adviser AI\n",
    "\n",
    "Dieses Notebook erstellt Features für das Machine Learning Modell."
   ]
  },
  {
   "cell_type": "code",
   "execution_count": null,
   "metadata": {},
   "outputs": [],
   "source": [
    "# Zelle 1: Import pandas und laden der CSV-Dateien\n",
    "import pandas as pd\n",
    "import numpy as np\n",
    "\n",
    "# Lade Kundendaten\n",
    "customers_df = pd.read_csv('../data/customers.csv')\n",
    "print(f\"Customers geladen: {len(customers_df)} Zeilen\")\n",
    "print(customers_df.columns.tolist())\n",
    "\n",
    "# Lade Ownership-Daten\n",
    "ownership_df = pd.read_csv('../data/ownership.csv')\n",
    "print(f\"\\nOwnership geladen: {len(ownership_df)} Zeilen\")\n",
    "print(ownership_df.columns.tolist())\n",
    "\n",
    "# Zeige erste Zeilen\n",
    "print(\"\\nCustomers:\")\n",
    "display(customers_df.head())\n",
    "print(\"\\nOwnership:\")\n",
    "display(ownership_df.head())"
   ]
  },
  {
   "cell_type": "code",
   "execution_count": null,
   "metadata": {},
   "outputs": [],
   "source": [
    "# Zelle 2: Erstelle One-Hot-Encoding für Produktbesitz\n",
    "\n",
    "# Alle verfügbaren Produkt-IDs ermitteln\n",
    "unique_products = ownership_df['prod_id'].unique()\n",
    "print(f\"Verfügbare Produkte: {sorted(unique_products)}\")\n",
    "\n",
    "# Starte mit Kundendaten\n",
    "features_df = customers_df.copy()\n",
    "\n",
    "# Erstelle für jedes Produkt eine has_<prod_id> Spalte\n",
    "for prod_id in unique_products:\n",
    "    # Kunden, die dieses Produkt besitzen\n",
    "    customers_with_product = ownership_df[ownership_df['prod_id'] == prod_id]['cust_id'].unique()\n",
    "    \n",
    "    # Erstelle One-Hot-Spalte\n",
    "    column_name = f'has_{prod_id}'\n",
    "    features_df[column_name] = features_df['cust_id'].isin(customers_with_product).astype(int)\n",
    "    \n",
    "    print(f\"Spalte {column_name} erstellt: {features_df[column_name].sum()} Kunden haben dieses Produkt\")\n",
    "\n",
    "# Zeige Ergebnis\n",
    "print(f\"\\nFeatures DataFrame: {features_df.shape}\")\n",
    "print(f\"Spalten: {features_df.columns.tolist()}\")\n",
    "display(features_df.head())"
   ]
  },
  {
   "cell_type": "code",
   "execution_count": null,
   "metadata": {},
   "outputs": [],
   "source": [
    "# Zelle 3: Features auswählen und als Parquet speichern\n",
    "\n",
    "# Definiere gewünschte Features\n",
    "base_features = ['cust_id', 'age_bucket', 'revenue', 'credit_score']\n",
    "product_features = [col for col in features_df.columns if col.startswith('has_')]\n",
    "\n",
    "# Alle Features zusammenfassen\n",
    "selected_features = base_features + product_features\n",
    "print(f\"Gewählte Features: {selected_features}\")\n",
    "\n",
    "# Features DataFrame erstellen\n",
    "final_features_df = features_df[selected_features].copy()\n",
    "\n",
    "# Statistiken anzeigen\n",
    "print(f\"\\n📊 Feature-Statistiken:\")\n",
    "print(f\"   • Anzahl Kunden: {len(final_features_df)}\")\n",
    "print(f\"   • Anzahl Features: {len(selected_features)}\")\n",
    "print(f\"   • Durchschnittliches Revenue: €{final_features_df['revenue'].mean():,.0f}\")\n",
    "print(f\"   • Durchschnittlicher Credit Score: {final_features_df['credit_score'].mean():.0f}\")\n",
    "\n",
    "print(f\"\\n🎯 Altersverteilung:\")\n",
    "age_dist = final_features_df['age_bucket'].value_counts().sort_index()\n",
    "for age, count in age_dist.items():\n",
    "    print(f\"   • {age}: {count} Kunden ({count/len(final_features_df)*100:.1f}%)\")\n",
    "\n",
    "print(f\"\\n📦 Produktbesitz-Verteilung:\")\n",
    "for col in product_features:\n",
    "    count = final_features_df[col].sum()\n",
    "    percentage = count / len(final_features_df) * 100\n",
    "    print(f\"   • {col}: {count} Kunden ({percentage:.1f}%)\")\n",
    "\n",
    "# Als Parquet speichern\n",
    "final_features_df.to_parquet('../data/features.parquet', index=False)\n",
    "print(f\"\\n✅ Features gespeichert als '../data/features.parquet'\")\n",
    "\n",
    "# Zeige erste Zeilen\n",
    "print(f\"\\n📋 Final Features DataFrame:\")\n",
    "display(final_features_df.head())\n",
    "\n",
    "# Info über das DataFrame\n",
    "print(f\"\\nDataFrame Info:\")\n",
    "final_features_df.info()"
   ]
  }
 ],
 "metadata": {
  "kernelspec": {
   "display_name": "Python 3 (ipykernel)",
   "language": "python",
   "name": "python3"
  },
  "language_info": {
   "codemirror_mode": {
    "name": "ipython",
    "version": 3
   },
   "file_extension": ".py",
   "mimetype": "text/x-python",
   "name": "python",
   "nbconvert_exporter": "python",
   "pygments_lexer": "ipython3",
   "version": "3.13.3"
  }
 },
 "nbformat": 4,
 "nbformat_minor": 4
}
